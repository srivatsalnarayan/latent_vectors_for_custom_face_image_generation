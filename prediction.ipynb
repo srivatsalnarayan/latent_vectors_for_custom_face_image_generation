{
 "cells": [
  {
   "cell_type": "code",
   "execution_count": 1,
   "id": "3fd09b5f",
   "metadata": {},
   "outputs": [
    {
     "name": "stderr",
     "output_type": "stream",
     "text": [
      "C:\\Users\\SRIVATSAL NARAYAN\\anaconda3\\envs\\myenv\\lib\\site-packages\\h5py\\__init__.py:36: UserWarning: h5py is running against HDF5 1.12.2 when it was built against 1.12.1, this may cause problems\n",
      "  _warn((\"h5py is running against HDF5 {0} when it was built against {1}, \"\n"
     ]
    }
   ],
   "source": [
    "\n",
    "from numpy import asarray\n",
    "from numpy.random import randn\n",
    "from tensorflow.keras.models import load_model\n",
    "from matplotlib import pyplot as plt\n",
    "\n",
    "\n"
   ]
  },
  {
   "cell_type": "code",
   "execution_count": 2,
   "id": "d377ca10",
   "metadata": {},
   "outputs": [],
   "source": [
    "#Let us start by generating images using random latent vectors.\n",
    "#########################################################################\n",
    "# Function to generate random latent points\n",
    "def generate_latent_points(latent_dim, n_samples, n_classes=10):\n",
    "\tx_input = randn(latent_dim * n_samples)\n",
    "\tz_input = x_input.reshape(n_samples, latent_dim) #Reshape to be provided as input to the generator.\n",
    "\treturn z_input\n"
   ]
  },
  {
   "cell_type": "code",
   "execution_count": 3,
   "id": "906a5ff7",
   "metadata": {},
   "outputs": [],
   "source": [
    "# Function to create a plot of generated images\n",
    "def plot_generated(examples, n):\n",
    "\t# plot images\n",
    "\tfor i in range(n * n):\n",
    "\t\tplt.subplot(n, n, 1 + i)\n",
    "\t\tplt.axis('off')\n",
    "\t\tplt.imshow(examples[i, :, :])\n",
    "\tplt.show()\n"
   ]
  },
  {
   "cell_type": "code",
   "execution_count": 4,
   "id": "a86ea5e7",
   "metadata": {},
   "outputs": [
    {
     "ename": "OSError",
     "evalue": "No file or directory found at model.h5",
     "output_type": "error",
     "traceback": [
      "\u001b[1;31m---------------------------------------------------------------------------\u001b[0m",
      "\u001b[1;31mOSError\u001b[0m                                   Traceback (most recent call last)",
      "Cell \u001b[1;32mIn[4], line 2\u001b[0m\n\u001b[0;32m      1\u001b[0m \u001b[38;5;66;03m# load the saved model\u001b[39;00m\n\u001b[1;32m----> 2\u001b[0m model \u001b[38;5;241m=\u001b[39m \u001b[43mload_model\u001b[49m\u001b[43m(\u001b[49m\u001b[38;5;124;43m'\u001b[39;49m\u001b[38;5;124;43mmodel.h5\u001b[39;49m\u001b[38;5;124;43m'\u001b[39;49m\u001b[43m)\u001b[49m\n\u001b[0;32m      3\u001b[0m \u001b[38;5;66;03m# generate latent vectors to be used as input to the generator\u001b[39;00m\n\u001b[0;32m      4\u001b[0m \u001b[38;5;66;03m#Here, we are generating 25 latent vectors\u001b[39;00m\n\u001b[0;32m      5\u001b[0m latent_points \u001b[38;5;241m=\u001b[39m generate_latent_points(\u001b[38;5;241m100\u001b[39m, \u001b[38;5;241m25\u001b[39m)\n",
      "File \u001b[1;32m~\\anaconda3\\envs\\myenv\\lib\\site-packages\\keras\\src\\saving\\saving_api.py:238\u001b[0m, in \u001b[0;36mload_model\u001b[1;34m(filepath, custom_objects, compile, safe_mode, **kwargs)\u001b[0m\n\u001b[0;32m    230\u001b[0m     \u001b[38;5;28;01mreturn\u001b[39;00m saving_lib\u001b[38;5;241m.\u001b[39mload_model(\n\u001b[0;32m    231\u001b[0m         filepath,\n\u001b[0;32m    232\u001b[0m         custom_objects\u001b[38;5;241m=\u001b[39mcustom_objects,\n\u001b[0;32m    233\u001b[0m         \u001b[38;5;28mcompile\u001b[39m\u001b[38;5;241m=\u001b[39m\u001b[38;5;28mcompile\u001b[39m,\n\u001b[0;32m    234\u001b[0m         safe_mode\u001b[38;5;241m=\u001b[39msafe_mode,\n\u001b[0;32m    235\u001b[0m     )\n\u001b[0;32m    237\u001b[0m \u001b[38;5;66;03m# Legacy case.\u001b[39;00m\n\u001b[1;32m--> 238\u001b[0m \u001b[38;5;28;01mreturn\u001b[39;00m \u001b[43mlegacy_sm_saving_lib\u001b[49m\u001b[38;5;241;43m.\u001b[39;49m\u001b[43mload_model\u001b[49m\u001b[43m(\u001b[49m\n\u001b[0;32m    239\u001b[0m \u001b[43m    \u001b[49m\u001b[43mfilepath\u001b[49m\u001b[43m,\u001b[49m\u001b[43m \u001b[49m\u001b[43mcustom_objects\u001b[49m\u001b[38;5;241;43m=\u001b[39;49m\u001b[43mcustom_objects\u001b[49m\u001b[43m,\u001b[49m\u001b[43m \u001b[49m\u001b[38;5;28;43mcompile\u001b[39;49m\u001b[38;5;241;43m=\u001b[39;49m\u001b[38;5;28;43mcompile\u001b[39;49m\u001b[43m,\u001b[49m\u001b[43m \u001b[49m\u001b[38;5;241;43m*\u001b[39;49m\u001b[38;5;241;43m*\u001b[39;49m\u001b[43mkwargs\u001b[49m\n\u001b[0;32m    240\u001b[0m \u001b[43m\u001b[49m\u001b[43m)\u001b[49m\n",
      "File \u001b[1;32m~\\anaconda3\\envs\\myenv\\lib\\site-packages\\keras\\src\\utils\\traceback_utils.py:70\u001b[0m, in \u001b[0;36mfilter_traceback.<locals>.error_handler\u001b[1;34m(*args, **kwargs)\u001b[0m\n\u001b[0;32m     67\u001b[0m     filtered_tb \u001b[38;5;241m=\u001b[39m _process_traceback_frames(e\u001b[38;5;241m.\u001b[39m__traceback__)\n\u001b[0;32m     68\u001b[0m     \u001b[38;5;66;03m# To get the full stack trace, call:\u001b[39;00m\n\u001b[0;32m     69\u001b[0m     \u001b[38;5;66;03m# `tf.debugging.disable_traceback_filtering()`\u001b[39;00m\n\u001b[1;32m---> 70\u001b[0m     \u001b[38;5;28;01mraise\u001b[39;00m e\u001b[38;5;241m.\u001b[39mwith_traceback(filtered_tb) \u001b[38;5;28;01mfrom\u001b[39;00m \u001b[38;5;28;01mNone\u001b[39;00m\n\u001b[0;32m     71\u001b[0m \u001b[38;5;28;01mfinally\u001b[39;00m:\n\u001b[0;32m     72\u001b[0m     \u001b[38;5;28;01mdel\u001b[39;00m filtered_tb\n",
      "File \u001b[1;32m~\\anaconda3\\envs\\myenv\\lib\\site-packages\\keras\\src\\saving\\legacy\\save.py:234\u001b[0m, in \u001b[0;36mload_model\u001b[1;34m(filepath, custom_objects, compile, options)\u001b[0m\n\u001b[0;32m    232\u001b[0m \u001b[38;5;28;01mif\u001b[39;00m \u001b[38;5;28misinstance\u001b[39m(filepath_str, \u001b[38;5;28mstr\u001b[39m):\n\u001b[0;32m    233\u001b[0m     \u001b[38;5;28;01mif\u001b[39;00m \u001b[38;5;129;01mnot\u001b[39;00m tf\u001b[38;5;241m.\u001b[39mio\u001b[38;5;241m.\u001b[39mgfile\u001b[38;5;241m.\u001b[39mexists(filepath_str):\n\u001b[1;32m--> 234\u001b[0m         \u001b[38;5;28;01mraise\u001b[39;00m \u001b[38;5;167;01mIOError\u001b[39;00m(\n\u001b[0;32m    235\u001b[0m             \u001b[38;5;124mf\u001b[39m\u001b[38;5;124m\"\u001b[39m\u001b[38;5;124mNo file or directory found at \u001b[39m\u001b[38;5;132;01m{\u001b[39;00mfilepath_str\u001b[38;5;132;01m}\u001b[39;00m\u001b[38;5;124m\"\u001b[39m\n\u001b[0;32m    236\u001b[0m         )\n\u001b[0;32m    238\u001b[0m     \u001b[38;5;28;01mif\u001b[39;00m tf\u001b[38;5;241m.\u001b[39mio\u001b[38;5;241m.\u001b[39mgfile\u001b[38;5;241m.\u001b[39misdir(filepath_str):\n\u001b[0;32m    239\u001b[0m         \u001b[38;5;28;01mreturn\u001b[39;00m saved_model_load\u001b[38;5;241m.\u001b[39mload(\n\u001b[0;32m    240\u001b[0m             filepath_str, \u001b[38;5;28mcompile\u001b[39m, options\n\u001b[0;32m    241\u001b[0m         )\n",
      "\u001b[1;31mOSError\u001b[0m: No file or directory found at model.h5"
     ]
    }
   ],
   "source": [
    "\n",
    "# load the saved model\n",
    "model = load_model('model.h5')\n",
    "# generate latent vectors to be used as input to the generator\n",
    "#Here, we are generating 25 latent vectors\n",
    "latent_points = generate_latent_points(100, 25)\n",
    "# generate images using the loaded generator model\n",
    "X  = model.predict(latent_points)\n",
    "# scale from [-1,1] to [0,1] for plotting\n",
    "X = (X + 1) / 2.0\n",
    "# plot the generated images. Let us do 5x5 plot as we generated 25 images\n",
    "plot_generated(X, 5)\n",
    "\n",
    "\n",
    "\n",
    "\n",
    "\n",
    "####our work of just img generation is over"
   ]
  },
  {
   "cell_type": "code",
   "execution_count": 5,
   "id": "f4d48158",
   "metadata": {},
   "outputs": [],
   "source": [
    "\n",
    "from numpy import linspace\n",
    "\n",
    "# Function to generate random latent points\n",
    "#Same as defined above, re-defining for convenience. \n",
    "def generate_latent_points(latent_dim, n_samples, n_classes=10):\n",
    " \t# generate points in the latent space\n",
    " \tx_input = randn(latent_dim * n_samples)\n",
    " \tz_input = x_input.reshape(n_samples, latent_dim) #Reshape to be provided as input to the generator.\n",
    " \treturn z_input\n"
   ]
  },
  {
   "cell_type": "code",
   "execution_count": 6,
   "id": "5019e163",
   "metadata": {},
   "outputs": [],
   "source": [
    "\n",
    "from numpy import linspace\n",
    "\n",
    "# Function to generate random latent points\n",
    "#Same as defined above, re-defining for convenience. \n",
    "def generate_latent_points(latent_dim, n_samples, n_classes=10):\n",
    " \t# generate points in the latent space\n",
    " \tx_input = randn(latent_dim * n_samples)\n",
    " \tz_input = x_input.reshape(n_samples, latent_dim) #Reshape to be provided as input to the generator.\n",
    " \treturn z_input\n"
   ]
  },
  {
   "cell_type": "code",
   "execution_count": 7,
   "id": "d464542c",
   "metadata": {},
   "outputs": [],
   "source": [
    "\n",
    "# create a plot of generated images\n",
    "def plot_generated(examples, n):\n",
    " \t# plot images\n",
    " \tfor i in range(n):\n",
    "         plt.subplot(1, n, 1 + i)\n",
    "         plt.axis('off')\n",
    "         plt.imshow(examples[i, :, :])\n",
    " \tplt.show()\n"
   ]
  },
  {
   "cell_type": "code",
   "execution_count": 8,
   "id": "1f4ab18a",
   "metadata": {},
   "outputs": [
    {
     "ename": "OSError",
     "evalue": "No file or directory found at saved_data_during_training/models/generator_model_128x128_100.h5",
     "output_type": "error",
     "traceback": [
      "\u001b[1;31m---------------------------------------------------------------------------\u001b[0m",
      "\u001b[1;31mOSError\u001b[0m                                   Traceback (most recent call last)",
      "Cell \u001b[1;32mIn[8], line 2\u001b[0m\n\u001b[0;32m      1\u001b[0m \u001b[38;5;66;03m# load the model, if you haven't already loaded it above. \u001b[39;00m\n\u001b[1;32m----> 2\u001b[0m model \u001b[38;5;241m=\u001b[39m \u001b[43mload_model\u001b[49m\u001b[43m(\u001b[49m\u001b[38;5;124;43m'\u001b[39;49m\u001b[38;5;124;43msaved_data_during_training/models/generator_model_128x128_100.h5\u001b[39;49m\u001b[38;5;124;43m'\u001b[39;49m\u001b[43m)\u001b[49m\n\u001b[0;32m      3\u001b[0m \u001b[38;5;66;03m# generate points in latent space\u001b[39;00m\n\u001b[0;32m      4\u001b[0m \u001b[38;5;66;03m#Let us generate 2 latent points between which we will interpolate\u001b[39;00m\n\u001b[0;32m      5\u001b[0m pts \u001b[38;5;241m=\u001b[39m generate_latent_points(\u001b[38;5;241m100\u001b[39m, \u001b[38;5;241m2\u001b[39m)\n",
      "File \u001b[1;32m~\\anaconda3\\envs\\myenv\\lib\\site-packages\\keras\\src\\saving\\saving_api.py:238\u001b[0m, in \u001b[0;36mload_model\u001b[1;34m(filepath, custom_objects, compile, safe_mode, **kwargs)\u001b[0m\n\u001b[0;32m    230\u001b[0m     \u001b[38;5;28;01mreturn\u001b[39;00m saving_lib\u001b[38;5;241m.\u001b[39mload_model(\n\u001b[0;32m    231\u001b[0m         filepath,\n\u001b[0;32m    232\u001b[0m         custom_objects\u001b[38;5;241m=\u001b[39mcustom_objects,\n\u001b[0;32m    233\u001b[0m         \u001b[38;5;28mcompile\u001b[39m\u001b[38;5;241m=\u001b[39m\u001b[38;5;28mcompile\u001b[39m,\n\u001b[0;32m    234\u001b[0m         safe_mode\u001b[38;5;241m=\u001b[39msafe_mode,\n\u001b[0;32m    235\u001b[0m     )\n\u001b[0;32m    237\u001b[0m \u001b[38;5;66;03m# Legacy case.\u001b[39;00m\n\u001b[1;32m--> 238\u001b[0m \u001b[38;5;28;01mreturn\u001b[39;00m \u001b[43mlegacy_sm_saving_lib\u001b[49m\u001b[38;5;241;43m.\u001b[39;49m\u001b[43mload_model\u001b[49m\u001b[43m(\u001b[49m\n\u001b[0;32m    239\u001b[0m \u001b[43m    \u001b[49m\u001b[43mfilepath\u001b[49m\u001b[43m,\u001b[49m\u001b[43m \u001b[49m\u001b[43mcustom_objects\u001b[49m\u001b[38;5;241;43m=\u001b[39;49m\u001b[43mcustom_objects\u001b[49m\u001b[43m,\u001b[49m\u001b[43m \u001b[49m\u001b[38;5;28;43mcompile\u001b[39;49m\u001b[38;5;241;43m=\u001b[39;49m\u001b[38;5;28;43mcompile\u001b[39;49m\u001b[43m,\u001b[49m\u001b[43m \u001b[49m\u001b[38;5;241;43m*\u001b[39;49m\u001b[38;5;241;43m*\u001b[39;49m\u001b[43mkwargs\u001b[49m\n\u001b[0;32m    240\u001b[0m \u001b[43m\u001b[49m\u001b[43m)\u001b[49m\n",
      "File \u001b[1;32m~\\anaconda3\\envs\\myenv\\lib\\site-packages\\keras\\src\\utils\\traceback_utils.py:70\u001b[0m, in \u001b[0;36mfilter_traceback.<locals>.error_handler\u001b[1;34m(*args, **kwargs)\u001b[0m\n\u001b[0;32m     67\u001b[0m     filtered_tb \u001b[38;5;241m=\u001b[39m _process_traceback_frames(e\u001b[38;5;241m.\u001b[39m__traceback__)\n\u001b[0;32m     68\u001b[0m     \u001b[38;5;66;03m# To get the full stack trace, call:\u001b[39;00m\n\u001b[0;32m     69\u001b[0m     \u001b[38;5;66;03m# `tf.debugging.disable_traceback_filtering()`\u001b[39;00m\n\u001b[1;32m---> 70\u001b[0m     \u001b[38;5;28;01mraise\u001b[39;00m e\u001b[38;5;241m.\u001b[39mwith_traceback(filtered_tb) \u001b[38;5;28;01mfrom\u001b[39;00m \u001b[38;5;28;01mNone\u001b[39;00m\n\u001b[0;32m     71\u001b[0m \u001b[38;5;28;01mfinally\u001b[39;00m:\n\u001b[0;32m     72\u001b[0m     \u001b[38;5;28;01mdel\u001b[39;00m filtered_tb\n",
      "File \u001b[1;32m~\\anaconda3\\envs\\myenv\\lib\\site-packages\\keras\\src\\saving\\legacy\\save.py:234\u001b[0m, in \u001b[0;36mload_model\u001b[1;34m(filepath, custom_objects, compile, options)\u001b[0m\n\u001b[0;32m    232\u001b[0m \u001b[38;5;28;01mif\u001b[39;00m \u001b[38;5;28misinstance\u001b[39m(filepath_str, \u001b[38;5;28mstr\u001b[39m):\n\u001b[0;32m    233\u001b[0m     \u001b[38;5;28;01mif\u001b[39;00m \u001b[38;5;129;01mnot\u001b[39;00m tf\u001b[38;5;241m.\u001b[39mio\u001b[38;5;241m.\u001b[39mgfile\u001b[38;5;241m.\u001b[39mexists(filepath_str):\n\u001b[1;32m--> 234\u001b[0m         \u001b[38;5;28;01mraise\u001b[39;00m \u001b[38;5;167;01mIOError\u001b[39;00m(\n\u001b[0;32m    235\u001b[0m             \u001b[38;5;124mf\u001b[39m\u001b[38;5;124m\"\u001b[39m\u001b[38;5;124mNo file or directory found at \u001b[39m\u001b[38;5;132;01m{\u001b[39;00mfilepath_str\u001b[38;5;132;01m}\u001b[39;00m\u001b[38;5;124m\"\u001b[39m\n\u001b[0;32m    236\u001b[0m         )\n\u001b[0;32m    238\u001b[0m     \u001b[38;5;28;01mif\u001b[39;00m tf\u001b[38;5;241m.\u001b[39mio\u001b[38;5;241m.\u001b[39mgfile\u001b[38;5;241m.\u001b[39misdir(filepath_str):\n\u001b[0;32m    239\u001b[0m         \u001b[38;5;28;01mreturn\u001b[39;00m saved_model_load\u001b[38;5;241m.\u001b[39mload(\n\u001b[0;32m    240\u001b[0m             filepath_str, \u001b[38;5;28mcompile\u001b[39m, options\n\u001b[0;32m    241\u001b[0m         )\n",
      "\u001b[1;31mOSError\u001b[0m: No file or directory found at saved_data_during_training/models/generator_model_128x128_100.h5"
     ]
    }
   ],
   "source": [
    "\n",
    "# load the model, if you haven't already loaded it above. \n",
    "model = load_model('saved_data_during_training/models/generator_model_128x128_100.h5')\n",
    "# generate points in latent space\n",
    "#Let us generate 2 latent points between which we will interpolate\n",
    "pts = generate_latent_points(100, 2)\n",
    "# interpolate points in latent space\n",
    "interpolated = interpolate_points(pts[0], pts[1])\n",
    "# generate images using the interpolated latent points\n",
    "X = model.predict(interpolated)\n",
    "# scale from [-1,1] to [0,1] for plotting\n",
    "X = (X + 1) / 2.0\n",
    "# plot the result\n",
    "plot_generated(X, len(interpolated))\n"
   ]
  },
  {
   "cell_type": "code",
   "execution_count": 9,
   "id": "b23ee601",
   "metadata": {},
   "outputs": [],
   "source": [
    "#Now, let us perform arithmetic with latent points so we can generate faces\n",
    "#with features of interest. \n",
    "#To work with latent points we must first generate a bunch of faces and \n",
    "#save them along with their corresponding latent points. This can be used\n",
    "#to visually locate images of interest and thus identify the latent points.\n",
    "#For example, latent points corresponding to baby face or sun glasses, etc. \n",
    "#"
   ]
  },
  {
   "cell_type": "code",
   "execution_count": 10,
   "id": "c167ba1d",
   "metadata": {},
   "outputs": [],
   "source": [
    "\n",
    "from numpy import mean, expand_dims\n",
    "# example of loading the generator model and generating images\n",
    "\n",
    "# Function to generate random latent points\n",
    "#Same as defined above, re-defining for convenience. \n",
    "def generate_latent_points(latent_dim, n_samples, n_classes=10):\n",
    "\tx_input = randn(latent_dim * n_samples)\n",
    "\tz_input = x_input.reshape(n_samples, latent_dim) #Reshape to be provided as input to the generator.\n",
    "\treturn z_input\n"
   ]
  },
  {
   "cell_type": "code",
   "execution_count": 11,
   "id": "2af50390",
   "metadata": {},
   "outputs": [],
   "source": [
    "\n",
    "# create a plot of generated images and save for easy visualization\n",
    "def plot_generated(examples, n):\n",
    "    plt.figure(figsize=(16, 16))\n",
    "    for i in range(n * n):\n",
    "        plt.subplot(n, n, 1 + i)\n",
    "        plt.axis('off')\n",
    "        plt.imshow(examples[i, :, :])\n",
    "    plt.savefig('generated_faces.png')\n",
    "    plt.close()\n"
   ]
  },
  {
   "cell_type": "code",
   "execution_count": 12,
   "id": "1d298775",
   "metadata": {},
   "outputs": [
    {
     "ename": "OSError",
     "evalue": "No file or directory found at saved_data_during_training/models/generator_model_128x128_100.h5",
     "output_type": "error",
     "traceback": [
      "\u001b[1;31m---------------------------------------------------------------------------\u001b[0m",
      "\u001b[1;31mOSError\u001b[0m                                   Traceback (most recent call last)",
      "Cell \u001b[1;32mIn[12], line 2\u001b[0m\n\u001b[0;32m      1\u001b[0m \u001b[38;5;66;03m# load the model, if you haven't already loaded it above\u001b[39;00m\n\u001b[1;32m----> 2\u001b[0m model \u001b[38;5;241m=\u001b[39m \u001b[43mload_model\u001b[49m\u001b[43m(\u001b[49m\u001b[38;5;124;43m'\u001b[39;49m\u001b[38;5;124;43msaved_data_during_training/models/generator_model_128x128_100.h5\u001b[39;49m\u001b[38;5;124;43m'\u001b[39;49m\u001b[43m)\u001b[49m\n\u001b[0;32m      4\u001b[0m \u001b[38;5;66;03m# generate points in latent space that we can use to generate some images\u001b[39;00m\n\u001b[0;32m      5\u001b[0m \u001b[38;5;66;03m#We then identify some images with our features of interest and locate thir corresponding latent vectors\u001b[39;00m\n\u001b[0;32m      6\u001b[0m latent_points \u001b[38;5;241m=\u001b[39m generate_latent_points(\u001b[38;5;241m100\u001b[39m, \u001b[38;5;241m100\u001b[39m)\n",
      "File \u001b[1;32m~\\anaconda3\\envs\\myenv\\lib\\site-packages\\keras\\src\\saving\\saving_api.py:238\u001b[0m, in \u001b[0;36mload_model\u001b[1;34m(filepath, custom_objects, compile, safe_mode, **kwargs)\u001b[0m\n\u001b[0;32m    230\u001b[0m     \u001b[38;5;28;01mreturn\u001b[39;00m saving_lib\u001b[38;5;241m.\u001b[39mload_model(\n\u001b[0;32m    231\u001b[0m         filepath,\n\u001b[0;32m    232\u001b[0m         custom_objects\u001b[38;5;241m=\u001b[39mcustom_objects,\n\u001b[0;32m    233\u001b[0m         \u001b[38;5;28mcompile\u001b[39m\u001b[38;5;241m=\u001b[39m\u001b[38;5;28mcompile\u001b[39m,\n\u001b[0;32m    234\u001b[0m         safe_mode\u001b[38;5;241m=\u001b[39msafe_mode,\n\u001b[0;32m    235\u001b[0m     )\n\u001b[0;32m    237\u001b[0m \u001b[38;5;66;03m# Legacy case.\u001b[39;00m\n\u001b[1;32m--> 238\u001b[0m \u001b[38;5;28;01mreturn\u001b[39;00m \u001b[43mlegacy_sm_saving_lib\u001b[49m\u001b[38;5;241;43m.\u001b[39;49m\u001b[43mload_model\u001b[49m\u001b[43m(\u001b[49m\n\u001b[0;32m    239\u001b[0m \u001b[43m    \u001b[49m\u001b[43mfilepath\u001b[49m\u001b[43m,\u001b[49m\u001b[43m \u001b[49m\u001b[43mcustom_objects\u001b[49m\u001b[38;5;241;43m=\u001b[39;49m\u001b[43mcustom_objects\u001b[49m\u001b[43m,\u001b[49m\u001b[43m \u001b[49m\u001b[38;5;28;43mcompile\u001b[39;49m\u001b[38;5;241;43m=\u001b[39;49m\u001b[38;5;28;43mcompile\u001b[39;49m\u001b[43m,\u001b[49m\u001b[43m \u001b[49m\u001b[38;5;241;43m*\u001b[39;49m\u001b[38;5;241;43m*\u001b[39;49m\u001b[43mkwargs\u001b[49m\n\u001b[0;32m    240\u001b[0m \u001b[43m\u001b[49m\u001b[43m)\u001b[49m\n",
      "File \u001b[1;32m~\\anaconda3\\envs\\myenv\\lib\\site-packages\\keras\\src\\utils\\traceback_utils.py:70\u001b[0m, in \u001b[0;36mfilter_traceback.<locals>.error_handler\u001b[1;34m(*args, **kwargs)\u001b[0m\n\u001b[0;32m     67\u001b[0m     filtered_tb \u001b[38;5;241m=\u001b[39m _process_traceback_frames(e\u001b[38;5;241m.\u001b[39m__traceback__)\n\u001b[0;32m     68\u001b[0m     \u001b[38;5;66;03m# To get the full stack trace, call:\u001b[39;00m\n\u001b[0;32m     69\u001b[0m     \u001b[38;5;66;03m# `tf.debugging.disable_traceback_filtering()`\u001b[39;00m\n\u001b[1;32m---> 70\u001b[0m     \u001b[38;5;28;01mraise\u001b[39;00m e\u001b[38;5;241m.\u001b[39mwith_traceback(filtered_tb) \u001b[38;5;28;01mfrom\u001b[39;00m \u001b[38;5;28;01mNone\u001b[39;00m\n\u001b[0;32m     71\u001b[0m \u001b[38;5;28;01mfinally\u001b[39;00m:\n\u001b[0;32m     72\u001b[0m     \u001b[38;5;28;01mdel\u001b[39;00m filtered_tb\n",
      "File \u001b[1;32m~\\anaconda3\\envs\\myenv\\lib\\site-packages\\keras\\src\\saving\\legacy\\save.py:234\u001b[0m, in \u001b[0;36mload_model\u001b[1;34m(filepath, custom_objects, compile, options)\u001b[0m\n\u001b[0;32m    232\u001b[0m \u001b[38;5;28;01mif\u001b[39;00m \u001b[38;5;28misinstance\u001b[39m(filepath_str, \u001b[38;5;28mstr\u001b[39m):\n\u001b[0;32m    233\u001b[0m     \u001b[38;5;28;01mif\u001b[39;00m \u001b[38;5;129;01mnot\u001b[39;00m tf\u001b[38;5;241m.\u001b[39mio\u001b[38;5;241m.\u001b[39mgfile\u001b[38;5;241m.\u001b[39mexists(filepath_str):\n\u001b[1;32m--> 234\u001b[0m         \u001b[38;5;28;01mraise\u001b[39;00m \u001b[38;5;167;01mIOError\u001b[39;00m(\n\u001b[0;32m    235\u001b[0m             \u001b[38;5;124mf\u001b[39m\u001b[38;5;124m\"\u001b[39m\u001b[38;5;124mNo file or directory found at \u001b[39m\u001b[38;5;132;01m{\u001b[39;00mfilepath_str\u001b[38;5;132;01m}\u001b[39;00m\u001b[38;5;124m\"\u001b[39m\n\u001b[0;32m    236\u001b[0m         )\n\u001b[0;32m    238\u001b[0m     \u001b[38;5;28;01mif\u001b[39;00m tf\u001b[38;5;241m.\u001b[39mio\u001b[38;5;241m.\u001b[39mgfile\u001b[38;5;241m.\u001b[39misdir(filepath_str):\n\u001b[0;32m    239\u001b[0m         \u001b[38;5;28;01mreturn\u001b[39;00m saved_model_load\u001b[38;5;241m.\u001b[39mload(\n\u001b[0;32m    240\u001b[0m             filepath_str, \u001b[38;5;28mcompile\u001b[39m, options\n\u001b[0;32m    241\u001b[0m         )\n",
      "\u001b[1;31mOSError\u001b[0m: No file or directory found at saved_data_during_training/models/generator_model_128x128_100.h5"
     ]
    }
   ],
   "source": [
    "\n",
    "# load the model, if you haven't already loaded it above\n",
    "model = load_model('saved_data_during_training/models/generator_model_128x128_100.h5')\n",
    "\n",
    "# generate points in latent space that we can use to generate some images\n",
    "#We then identify some images with our features of interest and locate thir corresponding latent vectors\n",
    "latent_points = generate_latent_points(100, 100)\n",
    "\n",
    "#Plot the latent points to see that they are spread around and we have no clue how to interpret them. \n",
    "import seaborn as sns\n",
    "sns.scatterplot(latent_points[0], latent_points[1])\n"
   ]
  },
  {
   "cell_type": "code",
   "execution_count": null,
   "id": "6b31dacd",
   "metadata": {},
   "outputs": [],
   "source": [
    "\n",
    "# generate images using the latent points. \n",
    "X  = model.predict(latent_points)\n",
    "# scale from [-1,1] to [0,1] for plotting\n",
    "X = (X + 1) / 2.0\n",
    "# plot and save generated images\n",
    "plot_generated(X, 10)\n",
    "\n",
    "#Now, identify images corresponding to a specific type.\n",
    "#e.g. all baby face images, smiling man images, \n",
    "# smiling man - neutral man + baby face = smiling baby\n",
    "\n",
    "# retrieve specific points\n",
    "#Now, identify images corresponding to a specific type.\n",
    "#Start counting from 1 as we are going to offset our image number later, by subtracting 1.\n",
    "#e.g. all baby face images, smiling man images, \n",
    "# smiling man - neutral man + baby face = smiling baby\n",
    "#OR try adult with glasses  - adult no glasses + baby no glasses\n",
    "\n",
    "#Identify a few images from classes of interest\n",
    "# smiling_man_ix = [1, 10, 16, 26, 27, 28]\n",
    "# neutral_man_ix = [16, 95, 63]\n",
    "# baby_ix = [13,26,28,93,94]\n",
    "adult_with_glasses = [3,39,40]\n",
    "adult_no_glasses = [4, 7, 8]\n",
    "#baby_no_glasses = [15,20]\n",
    "person_with_lipstick = [9, 10, 11, 31]\n",
    "#person_no_lipstick = [1, 4, 9, 15]\n",
    "\n",
    "#Reassign classes of interest to new variables... just to make it easy not\n",
    "# to change names all the time we get interested in new features. \n",
    "feature1_ix = adult_with_glasses\n",
    "feature2_ix = adult_no_glasses\n",
    "feature3_ix = person_with_lipstick\n",
    "\n",
    "# Function to average list of latent space vectors to get the mean for a given type\n",
    "def average_points(points, ix):\n",
    "\t# subtract 1 from image index so it matches the image from the array\n",
    "    # we are doing this as our array starts at 0 but we started counting at 1. \n",
    "\tzero_ix = [i-1 for i in ix]\n",
    "\t# retrieve required vectors corresponding to the selected images\n",
    "\tvectors = points[zero_ix]\n",
    "\t# average the vectors\n",
    "\tavg_vector = mean(vectors, axis=0)\n",
    "\t\n",
    "    return avg_vector\n",
    "\n",
    "# average vectors for each class\n",
    "feature1 = average_points(latent_points, feature1_ix)\n",
    "feature2 = average_points(latent_points, feature2_ix)\n",
    "feature3 = average_points(latent_points, feature3_ix)\n",
    "\n",
    "# Vector arithmetic....\n",
    "result_vector = feature1 - feature2 + feature3\n",
    "\n",
    "# generate image using the new calculated vector\n",
    "result_vector = expand_dims(result_vector, 0)\n",
    "result_image = model.predict(result_vector)\n",
    "\n",
    "# scale pixel values for plotting\n",
    "result_image = (result_image + 1) / 2.0\n",
    "plt.imshow(result_image[0])\n",
    "plt.show()"
   ]
  }
 ],
 "metadata": {
  "kernelspec": {
   "display_name": "Python 3 (ipykernel)",
   "language": "python",
   "name": "python3"
  },
  "language_info": {
   "codemirror_mode": {
    "name": "ipython",
    "version": 3
   },
   "file_extension": ".py",
   "mimetype": "text/x-python",
   "name": "python",
   "nbconvert_exporter": "python",
   "pygments_lexer": "ipython3",
   "version": "3.8.17"
  }
 },
 "nbformat": 4,
 "nbformat_minor": 5
}
